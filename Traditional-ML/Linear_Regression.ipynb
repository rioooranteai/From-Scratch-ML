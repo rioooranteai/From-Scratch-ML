{
  "nbformat": 4,
  "nbformat_minor": 0,
  "metadata": {
    "colab": {
      "provenance": []
    },
    "kernelspec": {
      "name": "python3",
      "display_name": "Python 3"
    },
    "language_info": {
      "name": "python"
    }
  },
  "cells": [
    {
      "cell_type": "markdown",
      "source": [
        "# **Import Module**\n",
        "\n",
        "\n"
      ],
      "metadata": {
        "id": "KPU-rO4wNWAN"
      }
    },
    {
      "cell_type": "code",
      "execution_count": 1,
      "metadata": {
        "id": "WEwm5dr8LfGS"
      },
      "outputs": [],
      "source": [
        "import torch\n",
        "import torch.nn as nn\n",
        "import torch.optim as optim"
      ]
    },
    {
      "cell_type": "markdown",
      "source": [
        "# **Data**"
      ],
      "metadata": {
        "id": "0jlZKip22Hx5"
      }
    },
    {
      "cell_type": "code",
      "source": [
        "data_x = torch.arange(1,101, step=1, dtype=torch.float)\n",
        "data_y = torch.arange(5,105, step=1, dtype=torch.float)"
      ],
      "metadata": {
        "id": "jDcUA7QLPCxz"
      },
      "execution_count": 2,
      "outputs": []
    },
    {
      "cell_type": "markdown",
      "source": [
        "# **Linear Regression**"
      ],
      "metadata": {
        "id": "TFgE4MAqNUVv"
      }
    },
    {
      "cell_type": "code",
      "source": [
        "a_init = torch.rand(1)\n",
        "b_init = torch.rand(1)\n",
        "\n",
        "learning_rate = 0.01"
      ],
      "metadata": {
        "id": "pWrqVtC9Mr9y"
      },
      "execution_count": 3,
      "outputs": []
    },
    {
      "cell_type": "code",
      "source": [
        "for _ in range(100):\n",
        "  linreg = (a_init * data_x) + b_init\n",
        "\n",
        "  mse = torch.sum((data_y - linreg)**2) / len(data_x)\n",
        "\n",
        "  mseb = torch.sum((data_y - linreg)) * (-2/len(data_x))\n",
        "  msea = torch.sum(data_x * (data_y - linreg)) * (-2/len(data_x))\n",
        "\n",
        "  new_a = a_init - learning_rate * msea\n",
        "  new_b = b_init - learning_rate * mseb\n",
        "\n",
        "  if _ % 10 == 0:\n",
        "    print(f\"Epoch {_}: Loss = {mse.item():.4f}, a = {a_init.item():.4f}, b = {b_init.item():.4f}\")\n",
        "\n",
        "  a_init = new_a\n",
        "  b_init = new_b"
      ],
      "metadata": {
        "id": "xqXo1YaXO751",
        "colab": {
          "base_uri": "https://localhost:8080/"
        },
        "outputId": "5b83b8cf-59e5-4ec9-a9db-31ea0e4d4924"
      },
      "execution_count": 4,
      "outputs": [
        {
          "output_type": "stream",
          "name": "stdout",
          "text": [
            "Epoch 0: Loss = 223.1184, a = 0.7918, b = 0.8367\n",
            "Epoch 10: Loss = inf, a = -443984994319204352.0000, b = -6627123800309760.0000\n",
            "Epoch 20: Loss = inf, a = -inf, b = -11524215320494951345147353537445888.0000\n",
            "Epoch 30: Loss = nan, a = nan, b = nan\n",
            "Epoch 40: Loss = nan, a = nan, b = nan\n",
            "Epoch 50: Loss = nan, a = nan, b = nan\n",
            "Epoch 60: Loss = nan, a = nan, b = nan\n",
            "Epoch 70: Loss = nan, a = nan, b = nan\n",
            "Epoch 80: Loss = nan, a = nan, b = nan\n",
            "Epoch 90: Loss = nan, a = nan, b = nan\n"
          ]
        }
      ]
    },
    {
      "cell_type": "code",
      "source": [
        "a_init"
      ],
      "metadata": {
        "colab": {
          "base_uri": "https://localhost:8080/"
        },
        "id": "78DTXeNa2NYl",
        "outputId": "6bf39e67-ea3c-47c3-b395-39434b07cd13"
      },
      "execution_count": 5,
      "outputs": [
        {
          "output_type": "execute_result",
          "data": {
            "text/plain": [
              "tensor([nan])"
            ]
          },
          "metadata": {},
          "execution_count": 5
        }
      ]
    },
    {
      "cell_type": "code",
      "source": [],
      "metadata": {
        "id": "m3ZzZ8tY4UGM"
      },
      "execution_count": 5,
      "outputs": []
    }
  ]
}