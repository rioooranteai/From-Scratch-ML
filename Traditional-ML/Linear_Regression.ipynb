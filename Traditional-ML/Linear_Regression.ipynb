{
  "nbformat": 4,
  "nbformat_minor": 0,
  "metadata": {
    "colab": {
      "provenance": []
    },
    "kernelspec": {
      "name": "python3",
      "display_name": "Python 3"
    },
    "language_info": {
      "name": "python"
    }
  },
  "cells": [
    {
      "cell_type": "markdown",
      "source": [
        "# **Import Module**\n",
        "\n",
        "\n"
      ],
      "metadata": {
        "id": "KPU-rO4wNWAN"
      }
    },
    {
      "cell_type": "code",
      "execution_count": 1,
      "metadata": {
        "id": "WEwm5dr8LfGS"
      },
      "outputs": [],
      "source": [
        "import pandas as pd\n",
        "import numpy as np\n",
        "import matplotlib.pyplot as plt\n",
        "import seaborn as sns\n",
        "\n",
        "import torch\n",
        "import torch.nn as nn\n",
        "import torch.optim as optim"
      ]
    },
    {
      "cell_type": "markdown",
      "source": [
        "# **Data**"
      ],
      "metadata": {
        "id": "0jlZKip22Hx5"
      }
    },
    {
      "cell_type": "code",
      "source": [
        "data_x = torch.arange(1,101,step=1, dtype=torch.float).reshape(-1,2)\n",
        "data_y = torch.arange(5,155, step=3, dtype=torch.float)\n",
        "\n",
        "df = pd.DataFrame(data_x, columns=['Fitur 1', 'Fitur 2'])\n",
        "\n",
        "df['Target'] = data_y"
      ],
      "metadata": {
        "id": "jDcUA7QLPCxz"
      },
      "execution_count": 2,
      "outputs": []
    },
    {
      "cell_type": "markdown",
      "source": [
        "# **Linear Regression**"
      ],
      "metadata": {
        "id": "TFgE4MAqNUVv"
      }
    },
    {
      "cell_type": "code",
      "source": [
        "import torch\n",
        "\n",
        "class LinearRegression:\n",
        "    def __init__(self):\n",
        "        self.a = None\n",
        "        self.b = None\n",
        "        self.loss = []\n",
        "\n",
        "    def fit(self, x, y, epochs: int = 1000, learning_rate: float = 0.01):\n",
        "        count_of_data_features = x.shape[1]\n",
        "\n",
        "        self.a = torch.zeros(count_of_data_features, 1, dtype=torch.float32)\n",
        "        self.b = torch.zeros(1, dtype=torch.float32)\n",
        "\n",
        "        x = torch.tensor(x, dtype=torch.float32)\n",
        "        y = torch.tensor(y, dtype=torch.float32).reshape(-1, 1)\n",
        "\n",
        "        for epoch in range(epochs):\n",
        "            linreg = torch.matmul(x, self.a) + self.b\n",
        "\n",
        "            mse = torch.mean((y - linreg) ** 2)\n",
        "\n",
        "            grad_a = -2 * torch.matmul(x.T, (y - linreg)) / len(x)\n",
        "            grad_b = -2 * torch.sum(y - linreg) / len(x)\n",
        "\n",
        "            self.a = self.a - learning_rate * grad_a\n",
        "            self.b = self.b - learning_rate * grad_b\n",
        "\n",
        "            self.loss.append(mse.item())\n",
        "\n",
        "            if epoch % 10 == 0:\n",
        "                print(f\"Epoch {epoch}: Loss = {mse.item():.4f}\")\n",
        "\n",
        "\n",
        "    def predict(self, x):\n",
        "\n",
        "        if self.a is None or self.b is None:\n",
        "            raise ValueError(\"Model belum dilatih. Gunakan '[objek].fit()' terlebih dahulu\")\n",
        "\n",
        "        if self.a.shape[0] != x.shape[1]:\n",
        "            raise ValueError(\"Jumlah fitur input tidak sesuai dengan model yang dilatih.\")\n",
        "\n",
        "        x = torch.tensor(x, dtype=torch.float32)\n",
        "\n",
        "        return torch.matmul(x, self.a) + self.b\n",
        "\n",
        "    def visualize(self):\n",
        "      if not self.loss:\n",
        "        raise ValueError(\"Model belum dilatih. Gunakan '[objek].fit()' terlebih dahulu\")\n",
        "\n",
        "      plt.figure(figsize=(12, 6))\n",
        "\n",
        "      epochs = range(len(self.loss))\n",
        "      plt.plot(epochs, self.loss, label=\"Loss (Line)\", color=\"blue\")\n",
        "      plt.scatter(epochs, self.loss, label=\"Loss (Points)\", color=\"red\")\n",
        "\n",
        "      plt.xlabel(\"Epoch\")\n",
        "      plt.ylabel(\"Loss\")\n",
        "      plt.title(\"Loss per Epoch\")\n",
        "      plt.legend()\n",
        "      plt.grid(True)\n",
        "      plt.show()"
      ],
      "metadata": {
        "id": "xqXo1YaXO751"
      },
      "execution_count": 64,
      "outputs": []
    },
    {
      "cell_type": "markdown",
      "source": [
        "# **Train Model**"
      ],
      "metadata": {
        "id": "S7pBz_D18aMq"
      }
    },
    {
      "cell_type": "code",
      "source": [
        "model = LinearRegression()"
      ],
      "metadata": {
        "id": "tT1vs_Ez8LQo"
      },
      "execution_count": 65,
      "outputs": []
    },
    {
      "cell_type": "code",
      "source": [
        "x = df.drop('Target', axis=1).values\n",
        "y = df['Target'].values\n",
        "\n",
        "model.fit(x, y, epochs=100, learning_rate=0.0001)"
      ],
      "metadata": {
        "colab": {
          "base_uri": "https://localhost:8080/"
        },
        "id": "8wJYY5058NOw",
        "outputId": "cb531454-017e-447b-9122-5258b22f69f4"
      },
      "execution_count": 66,
      "outputs": [
        {
          "output_type": "stream",
          "name": "stdout",
          "text": [
            "Epoch 0: Loss = 8036.5000\n",
            "Epoch 10: Loss = 1.8360\n",
            "Epoch 20: Loss = 1.8333\n",
            "Epoch 30: Loss = 1.8306\n",
            "Epoch 40: Loss = 1.8279\n",
            "Epoch 50: Loss = 1.8252\n",
            "Epoch 60: Loss = 1.8225\n",
            "Epoch 70: Loss = 1.8198\n",
            "Epoch 80: Loss = 1.8171\n",
            "Epoch 90: Loss = 1.8144\n"
          ]
        }
      ]
    },
    {
      "cell_type": "code",
      "source": [
        "model.visualize()"
      ],
      "metadata": {
        "colab": {
          "base_uri": "https://localhost:8080/",
          "height": 564
        },
        "id": "zYkb9Yvp8krn",
        "outputId": "6743c651-4b17-4adb-d0a9-3e92384b6588"
      },
      "execution_count": 67,
      "outputs": [
        {
          "output_type": "display_data",
          "data": {
            "text/plain": [
              "<Figure size 1200x600 with 1 Axes>"
            ],
            "image/png": "[encoded data removed]"
          },
          "metadata": {}
        }
      ]
    },
    {
      "cell_type": "code",
      "source": [],
      "metadata": {
        "id": "fj8t-yN2-PCw"
      },
      "execution_count": 67,
      "outputs": []
    }
  ]
}