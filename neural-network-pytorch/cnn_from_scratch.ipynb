{
  "nbformat": 4,
  "nbformat_minor": 0,
  "metadata": {
    "colab": {
      "provenance": []
    },
    "kernelspec": {
      "name": "python3",
      "display_name": "Python 3"
    },
    "language_info": {
      "name": "python"
    }
  },
  "cells": [
    {
      "cell_type": "code",
      "execution_count": null,
      "metadata": {
        "id": "c7YqpK9mfaxz"
      },
      "outputs": [],
      "source": [
        "import torch"
      ]
    },
    {
      "cell_type": "markdown",
      "source": [
        "## **Dense Layer**"
      ],
      "metadata": {
        "id": "q60N5JbJgEso"
      }
    },
    {
      "cell_type": "code",
      "source": [
        "class DenseLayer:\n",
        "  def __init___(self, input_dim, output_dim, activation_func=torch.relu()):\n",
        "\n",
        "    self.weights = torch.rand()\n",
        "    self.bias = torch.zeros()\n",
        "    self.activation_func = activation_func\n",
        "\n",
        "  def forward(self):\n",
        "\n",
        "    output = self.activation_func(torch.matmul(self.weights * input) + self.bias)\n",
        "    return output"
      ],
      "metadata": {
        "id": "aUKkaMnygEJ_"
      },
      "execution_count": null,
      "outputs": []
    },
    {
      "cell_type": "code",
      "source": [],
      "metadata": {
        "id": "e5Hx3Bvuf7rm"
      },
      "execution_count": null,
      "outputs": []
    }
  ]
}